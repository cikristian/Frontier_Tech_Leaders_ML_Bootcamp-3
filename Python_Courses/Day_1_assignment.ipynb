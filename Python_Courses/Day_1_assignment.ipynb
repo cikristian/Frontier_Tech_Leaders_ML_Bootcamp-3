{
 "cells": [
  {
   "cell_type": "markdown",
   "id": "4ae1866b",
   "metadata": {},
   "source": [
    "# Assignment1: BMI Calculator and Health Assessment"
   ]
  },
  {
   "cell_type": "markdown",
   "id": "7ea9d828",
   "metadata": {},
   "source": [
    "\n",
    "\n",
    "**Objective:**\n",
    "\n",
    "Build a Python program that calculates the Body Mass Index (BMI) of a user and provides a health assessment based on their BMI value.\n",
    "\n",
    "**Background Context:**\n",
    "BMI is a measure used to determine whether a person has a healthy body weight for a person of their height. It is calculated using the following formula:\n",
    "\n",
    "$$ \\text{BMI} = \\frac{\\text{weight in kilograms}}{\\text{height in meters}^2} $$\n",
    "\n",
    "\n",
    "The BMI categories are:\n",
    "\n",
    "* Underweight: BMI is less than 18.5\n",
    "* Normal weight: BMI is 18.5 to 24.9\n",
    "* Overweight: BMI is 25 to 29.9\n",
    "* Obesity: BMI is 30 or greater\n",
    "\n",
    "**Tasks:**\n",
    "\n",
    "**User Input:**\n",
    "\n",
    "* Prompt the user to input their weight in kilograms (float).\n",
    "* Prompt the user to input their height in meters (float).\n",
    "\n",
    "\n",
    "**Calculate BMI:**\n",
    "\n",
    "Using the formula provided, calculate the BMI. Store it in a variable named bmi.\n",
    "\n",
    "**Provide Health Assessment:**\n",
    "\n",
    "Using conditional statements (if, elif, and else), determine which BMI category the user falls into.\n",
    "Print out the user's BMI and the corresponding health assessment.\n",
    "\n",
    "**Error Handling:**\n",
    "\n",
    "Ensure the user cannot enter a negative or zero value for height or weight. If they do, provide an error message and prompt them to enter the value again.\n"
   ]
  },
  {
   "cell_type": "markdown",
   "id": "d19518ee",
   "metadata": {},
   "source": [
    "**Expected Output:**\n",
    "\n",
    "\n",
    "Enter your weight in kilograms: 70\n",
    "Enter your height in meters: 1.75\n",
    "\n",
    "Your BMI is 22.86. You have a Normal weight.\n",
    "\n"
   ]
  },
  {
   "cell_type": "code",
   "execution_count": 7,
   "id": "551205ee",
   "metadata": {},
   "outputs": [],
   "source": [
    "#solution\n",
    "def body_assessment(weight, height):\n",
    "    bmi = round(weight / (height ** 2), 2)\n",
    "    if bmi < 18.5:\n",
    "        print(bmi)\n",
    "        return \"Underweight\"\n",
    "    elif bmi < 24.9:\n",
    "        print(bmi)\n",
    "        return \"Normal weight\"\n",
    "    elif bmi < 29.9:\n",
    "        print(bmi)\n",
    "        return \"Overweight\"\n",
    "    else:\n",
    "        print(bmi)\n",
    "        return \"Obesity\""
   ]
  },
  {
   "cell_type": "code",
   "execution_count": 8,
   "id": "cd17d314",
   "metadata": {},
   "outputs": [
    {
     "name": "stdout",
     "output_type": "stream",
     "text": [
      "22.86\n"
     ]
    },
    {
     "data": {
      "text/plain": [
       "'Normal weight'"
      ]
     },
     "execution_count": 8,
     "metadata": {},
     "output_type": "execute_result"
    }
   ],
   "source": [
    "body_assessment(70, 1.75)"
   ]
  }
 ],
 "metadata": {
  "kernelspec": {
   "display_name": "Python 3 (ipykernel)",
   "language": "python",
   "name": "python3"
  },
  "language_info": {
   "codemirror_mode": {
    "name": "ipython",
    "version": 3
   },
   "file_extension": ".py",
   "mimetype": "text/x-python",
   "name": "python",
   "nbconvert_exporter": "python",
   "pygments_lexer": "ipython3",
   "version": "3.12.4"
  }
 },
 "nbformat": 4,
 "nbformat_minor": 5
}
